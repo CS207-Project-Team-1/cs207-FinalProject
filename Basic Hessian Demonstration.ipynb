{
 "cells": [
  {
   "cell_type": "markdown",
   "metadata": {},
   "source": [
    "# Basic Hessian AD\n",
    "\n",
    "For many optimizaton problems, the hessian is useful to speed up convergence or provide approximations through the Taylor expansion. Since the Hessian is sometimes intractible analytically, automatic differentiation is an important and useful tool for getting the Hessian of a function."
   ]
  },
  {
   "cell_type": "code",
   "execution_count": 1,
   "metadata": {},
   "outputs": [],
   "source": [
    "import ad\n",
    "import numpy as np\n",
    "from matplotlib import pyplot as plt\n",
    "%matplotlib inline"
   ]
  },
  {
   "cell_type": "markdown",
   "metadata": {},
   "source": [
    "## Univariate Example\n",
    "\n",
    "First we start with an easy univariate example, where we know the closed form solution already. Consider the function\n",
    "\n",
    "$$f(x) = x^2 + \\frac{1}{x + 1} - 5x$$\n",
    "\n",
    "The Hessian in this case is just one variable, which can be analytically solved to be\n",
    "\n",
    "$$ \\frac{d^2}{dx^2} f(x) = \\frac{2}{(x+1)^3}+2$$\n",
    "\n",
    "Let's check whether or not our AD package gives us the correct answer!"
   ]
  },
  {
   "cell_type": "code",
   "execution_count": 2,
   "metadata": {},
   "outputs": [],
   "source": [
    "x = ad.Variable()\n",
    "f = x * x + 1 / (x + 1) - 5 * x\n",
    "\n",
    "x_vals = list(np.linspace(0, 6, 1000))\n",
    "fx_vals = [f.eval({x: i}) for i in x_vals]\n",
    "fppx_vals = [f.hessian({x: i}) for i in x_vals]"
   ]
  },
  {
   "cell_type": "code",
   "execution_count": 3,
   "metadata": {},
   "outputs": [
    {
     "data": {
      "image/png": "[encoded data removed]",
      "text/plain": [
       "<matplotlib.figure.Figure at 0x1036d00f0>"
      ]
     },
     "metadata": {},
     "output_type": "display_data"
    }
   ],
   "source": [
    "plt.title(r\"Function $f(x)$ and the Hessian\")\n",
    "plt.xlabel(r\"$x$\")\n",
    "plt.plot(x_vals, fx_vals)\n",
    "plt.plot(x_vals, fppx_vals)\n",
    "\n",
    "plt.legend([r'$f(x)$', r\"$f''(x)$\"])\n",
    "plt.show()"
   ]
  },
  {
   "cell_type": "markdown",
   "metadata": {},
   "source": [
    "This matches our analytic form of the Hessian, which is good!"
   ]
  },
  {
   "cell_type": "markdown",
   "metadata": {},
   "source": [
    "## Multivariate Example\n",
    "\n",
    "Now let's do a multivariate example. In order to be able to verify our results, we will make a function of two variables so we can easily get the analytical form of the Hessian. However, we can do the exact same thing for more than two variables. Let us consider the function:\n",
    "\n",
    "$$f(x, y) = x^3 + \\cos(xy) + \\frac{1}{y - 1} + x^y$$\n",
    "\n",
    "Then, our Hessian (analytic form given by Mathematica) will be:\n",
    "\n",
    "$$\\mathsf{Hessian} = \n",
    "\\begin{bmatrix}\n",
    "1\n",
    "\\end{bmatrix}\n",
    "$$"
   ]
  },
  {
   "cell_type": "code",
   "execution_count": null,
   "metadata": {},
   "outputs": [],
   "source": [
    "x = ad.Variable()\n",
    "y = ad.Variable()\n",
    "\n",
    "f = x * x * x + "
   ]
  }
 ],
 "metadata": {
  "kernelspec": {
   "display_name": "Python 3",
   "language": "python",
   "name": "python3"
  },
  "language_info": {
   "codemirror_mode": {
    "name": "ipython",
    "version": 3
   },
   "file_extension": ".py",
   "mimetype": "text/x-python",
   "name": "python",
   "nbconvert_exporter": "python",
   "pygments_lexer": "ipython3",
   "version": "3.6.5"
  }
 },
 "nbformat": 4,
 "nbformat_minor": 2
}
