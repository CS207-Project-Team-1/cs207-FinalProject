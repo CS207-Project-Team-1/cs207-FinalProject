{
 "cells": [
  {
   "cell_type": "code",
   "execution_count": 3,
   "metadata": {},
   "outputs": [],
   "source": [
    "from ad import *\n",
    "import numpy as np\n",
    "import matplotlib.pyplot as plt"
   ]
  },
  {
   "cell_type": "markdown",
   "metadata": {},
   "source": [
    "Newton method used to find root of $f(x) = 2x + 3\\sin(x) + 10x^3 + 4\\tanh(x) - 20$. We have used our AD package to calculate the value of the function and its derivative at every step."
   ]
  },
  {
   "cell_type": "code",
   "execution_count": 4,
   "metadata": {},
   "outputs": [],
   "source": [
    "x = Variable('x')\n",
    "\n",
    "def function(values):\n",
    "    '''\n",
    "    Takes in dictionary of values and returns f(x) and f'(x)\n",
    "    Function being evaluated is defined within this block\n",
    "    Value of function and gradient then used in Newton loop\n",
    "    Function also used for demonstration plot, bottom of notebook\n",
    "    '''\n",
    "    function = 2*x + 3*Sin(x) + 10 * (x ** 3) + 4*Tanh(x) - 20\n",
    "    val = function.eval(values)\n",
    "    grad = function.d(values)\n",
    "    return val, grad\n",
    "\n",
    "def Newton_Method(x_initial_guess):\n",
    "    '''\n",
    "    Takes in an initial guess for the location of the root\n",
    "    Convergence of the method can dependent on this guess and shape of function\n",
    "    While loop used to carry out iterations until change in x (delta_x) below tolerance\n",
    "    Function returns final root, and lists of points visited during iteration\n",
    "    '''\n",
    "    x_var = x_initial_guess\n",
    "    tol = 1e-12\n",
    "    delta_x = np.inf\n",
    "    val_list = []\n",
    "    x_points = []\n",
    "    \n",
    "    while abs(delta_x) > tol:\n",
    "        values = {x : x_var}\n",
    "        x_points.append(x_var)\n",
    "        val, grad = function(values)\n",
    "        val_list.append(val)\n",
    "        delta_x = val/grad\n",
    "        x_var -= delta_x\n",
    "    \n",
    "    final_root = x_var\n",
    "    \n",
    "    return final_root, x_points, val_list"
   ]
  },
  {
   "cell_type": "code",
   "execution_count": 5,
   "metadata": {},
   "outputs": [
    {
     "name": "stdout",
     "output_type": "stream",
     "text": [
      "Root : 1.0654064707840294\n"
     ]
    }
   ],
   "source": [
    "#simple demonstration of our Newton_Method function\n",
    "initial_guess = 5\n",
    "root, points, val_points = Newton_Method(initial_guess)\n",
    "print('Root :', root)"
   ]
  },
  {
   "cell_type": "code",
   "execution_count": 6,
   "metadata": {},
   "outputs": [
    {
     "data": {
      "image/png": "[encoded data removed]",
      "text/plain": [
       "<Figure size 1080x504 with 1 Axes>"
      ]
     },
     "metadata": {},
     "output_type": "display_data"
    }
   ],
   "source": [
    "#plot function and show steps taken by the Newton Method\n",
    "\n",
    "fig, ax = plt.subplots(figsize=(15, 7))\n",
    "ax.grid(True, lw=1.76, ls='--', alpha = 0.15)\n",
    "x_max = np.max(np.abs(points))*1.1\n",
    "y_max = np.max(np.abs(val_points))*1.25\n",
    "\n",
    "xs = list(np.linspace(0.5, x_max, 5000, endpoint = True))\n",
    "y_ground = np.linspace(0,0,5000)\n",
    "ys = []\n",
    "\n",
    "for x_var in xs:\n",
    "    values = {x:x_var}\n",
    "    y, grad_y = function(values)\n",
    "    ys.append(y)\n",
    "\n",
    "plt.plot(xs, ys, '', color = 'b', ms =10) \n",
    "plt.plot(xs, y_ground, '', color = 'black', ms =10, alpha = 0.5) \n",
    "plt.plot(root, 0, 'o', color = 'black', ms =10) \n",
    "\n",
    "for i, (x_i, y_i) in enumerate(zip(points, val_points)):\n",
    "    y_line = np.linspace(0, y_i, 50, endpoint=True)\n",
    "    x_line = np.linspace(x_i, x_i, 50)\n",
    "    plt.plot(x_line, y_line, '', color = 'r', ms =10) \n",
    "    \n",
    "    try:\n",
    "        x_start = points[i]\n",
    "        x_end = points[i+1]\n",
    "        y_start = val_points[i]\n",
    "        y_end = 0\n",
    "        slope, intercept = np.polyfit((x_start, x_end), (y_start, y_end), 1)\n",
    "        \n",
    "        x_between = np.linspace(x_start, x_end, 100, endpoint = True)\n",
    "        y_between = slope*x_between + intercept\n",
    "        plt.plot(x_between, y_between, '', color = 'r', ms =10)\n",
    "        \n",
    "    except IndexError:\n",
    "        pass;\n",
    "    \n",
    "plt.xlim(0.5, x_max)\n",
    "plt.ylim(-y_max, y_max)\n",
    "plt.show()"
   ]
  },
  {
   "cell_type": "code",
   "execution_count": null,
   "metadata": {},
   "outputs": [],
   "source": []
  }
 ],
 "metadata": {
  "kernelspec": {
   "display_name": "Python 3",
   "language": "python",
   "name": "python3"
  },
  "language_info": {
   "codemirror_mode": {
    "name": "ipython",
    "version": 3
   },
   "file_extension": ".py",
   "mimetype": "text/x-python",
   "name": "python",
   "nbconvert_exporter": "python",
   "pygments_lexer": "ipython3",
   "version": "3.6.5"
  }
 },
 "nbformat": 4,
 "nbformat_minor": 2
}
